{
  "nbformat": 4,
  "nbformat_minor": 0,
  "metadata": {
    "colab": {
      "provenance": []
    },
    "kernelspec": {
      "name": "python3",
      "display_name": "Python 3"
    },
    "language_info": {
      "name": "python"
    }
  },
  "cells": [
    {
      "cell_type": "code",
      "execution_count": null,
      "metadata": {
        "id": "yj950eLSY1iM"
      },
      "outputs": [],
      "source": [
        "from os import read\n",
        "#Tarea 1\n",
        "for i in range (-100,201):\n",
        " print(i)\n",
        "\n",
        "\"Marque un rango como variable I, lo que pedi que me imprimiera sin ninguna condición, por eso salen todos los numeros de ese rango.\"\n",
        "\n"
      ]
    },
    {
      "cell_type": "code",
      "source": [
        "#Tarea 2\n",
        "for i in range (-100,201):\n",
        " if i % 6 == 0:\n",
        "   print (i)\n",
        "\n",
        "\" Marque nuevamente una variable como rango (I), esta vez le agrege una condición (poder ser dividido por 6), lo que me termino dando los numeros divisibles por 6 cuando yo los imprimi.\"\n",
        "\n"
      ],
      "metadata": {
        "colab": {
          "base_uri": "https://localhost:8080/"
        },
        "id": "nS7GbVRf0SYw",
        "outputId": "ad340fab-ac58-45dc-cf4d-e6ffc61d07cc"
      },
      "execution_count": 7,
      "outputs": [
        {
          "output_type": "stream",
          "name": "stdout",
          "text": [
            "-96\n",
            "-90\n",
            "-84\n",
            "-78\n",
            "-72\n",
            "-66\n",
            "-60\n",
            "-54\n",
            "-48\n",
            "-42\n",
            "-36\n",
            "-30\n",
            "-24\n",
            "-18\n",
            "-12\n",
            "-6\n",
            "0\n",
            "6\n",
            "12\n",
            "18\n",
            "24\n",
            "30\n",
            "36\n",
            "42\n",
            "48\n",
            "54\n",
            "60\n",
            "66\n",
            "72\n",
            "78\n",
            "84\n",
            "90\n",
            "96\n",
            "102\n",
            "108\n",
            "114\n",
            "120\n",
            "126\n",
            "132\n",
            "138\n",
            "144\n",
            "150\n",
            "156\n",
            "162\n",
            "168\n",
            "174\n",
            "180\n",
            "186\n",
            "192\n",
            "198\n"
          ]
        }
      ]
    },
    {
      "cell_type": "code",
      "source": [
        "#Tarea 3\n",
        "n1 = int(input(\"Ingresar el primer número: \"))\n",
        "n2 = int(input(\"Ingresar el segundo número: \"))\n",
        "\n",
        "resultado = n1 + n2\n",
        "print(\"La suma es:\", resultado)\n",
        "if resultado < 200:\n",
        "    print(\"menor a 200\")\n",
        "elif 200 <= resultado < 250:\n",
        "    print(\"mayor a 200\")\n",
        "else:\n",
        "    print(\"mayor a 250\")\n",
        "\n",
        "\"Primero consideré que lo más importante era establecer los valores, los cuales pueden ser ingresados libremente mediante la función input(). Luego, pedí que se realizara la sumatoria de esos valores y se mostrara el resultado. Utilicé una estructura condicional: if para verificar si el total es menor a 200, elif para identificar si está entre 200 y 249, y else para cubrir cualquier otro caso superior.\"\n"
      ],
      "metadata": {
        "id": "_XLjmX5QYcsR"
      },
      "execution_count": null,
      "outputs": []
    },
    {
      "cell_type": "code",
      "source": [
        "#Tarea 4\n",
        "def evaluar_usuario(nombre, edad, gusta_urbana):\n",
        "    print(f\"{nombre}\")\n",
        "\n",
        "    if edad >= 18:\n",
        "        if gusta_urbana:\n",
        "            print(\"Eres mayor de edad y te gusta la música urbana\")\n",
        "        else:\n",
        "            print(\"Eres mayor de edad, no te gusta la música urbana\")\n",
        "    else:\n",
        "        if gusta_urbana:\n",
        "            print(\"Eres menor de edad y te gusta la música urbana\")\n",
        "        else:\n",
        "            print(\"Eres menor de edad y no te gusta la música urbana\")\n",
        "\n",
        "nombre = input(\" nombre \")\n",
        "edad = int(input(\" edad \"))\n",
        "respuesta_musica = input(\"¿Te gusta la música urbana? (si/no): \").strip()\n",
        "gusta_urbana = True if respuesta_musica == \"si\" else False\n",
        "\n",
        "evaluar_usuario (nombre, edad, gusta_urbana)\n",
        "\n",
        "\"En este caso, primero definí que la evaluación del usuario se basaría en tres datos: nombre, edad y si le gusta la música urbana. Esos son los elementos que se deben recopilar. Luego, con la información recolectada, estructuré el código para filtrar y registrar las respuestas de quienes son menores de edad, indicando además si les gusta o no ese estilo musical. Finalmente, configuré la salida para que mostrara los datos en el formato deseado: nombre, edad y preferencia respecto a la música urbana.\"\n"
      ],
      "metadata": {
        "colab": {
          "base_uri": "https://localhost:8080/"
        },
        "id": "yhiFY0-0YP2n",
        "outputId": "81bd1ca7-66ae-4249-dc34-aee1c76fadbd"
      },
      "execution_count": 2,
      "outputs": [
        {
          "output_type": "stream",
          "name": "stdout",
          "text": [
            " nombre matias\n",
            " edad 21\n",
            "¿Te gusta la música urbana? (si/no): si\n",
            "matias\n",
            "Eres mayor de edad y te gusta la música urbana\n"
          ]
        }
      ]
    }
  ]
}